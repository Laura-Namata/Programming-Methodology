{
 "cells": [
  {
   "cell_type": "code",
   "execution_count": 3,
   "id": "1de8fe6f",
   "metadata": {},
   "outputs": [
    {
     "name": "stderr",
     "output_type": "stream",
     "text": [
      "also installing the dependencies 'utf8', 'bit', 'prettyunits', 'pkgconfig', 'vctrs', 'glue', 'fansi', 'magrittr', 'pillar', 'bit64', 'tidyselect', 'withr', 'progress', 'cli', 'clipr', 'hms', 'lifecycle', 'R6', 'rlang', 'tibble', 'vroom', 'cpp11', 'tzdb'\n",
      "\n"
     ]
    },
    {
     "name": "stdout",
     "output_type": "stream",
     "text": [
      "\n",
      "  There are binary versions available but the source versions are later:\n",
      "           binary source needs_compilation\n",
      "utf8        1.2.1  1.2.3              TRUE\n",
      "bit         4.0.4  4.0.5              TRUE\n",
      "vctrs       0.3.8  0.6.3              TRUE\n",
      "glue        1.4.2  1.6.2              TRUE\n",
      "fansi       0.4.2  1.0.4              TRUE\n",
      "magrittr    2.0.1  2.0.3              TRUE\n",
      "pillar      1.6.0  1.9.0             FALSE\n",
      "tidyselect  1.1.1  1.2.0             FALSE\n",
      "withr       2.4.2  2.5.0             FALSE\n",
      "cli         2.5.0  3.6.1              TRUE\n",
      "clipr       0.7.1  0.8.0             FALSE\n",
      "hms         1.0.0  1.1.3             FALSE\n",
      "lifecycle   1.0.0  1.0.3             FALSE\n",
      "R6          2.5.0  2.5.1             FALSE\n",
      "rlang      0.4.11  1.1.1              TRUE\n",
      "tibble      3.1.1  3.2.1              TRUE\n",
      "vroom       1.4.0  1.6.3              TRUE\n",
      "cpp11       0.2.7  0.4.6             FALSE\n",
      "tzdb        0.1.1  0.4.0              TRUE\n",
      "readr       1.4.0  2.1.4              TRUE\n",
      "\n",
      "  Binaries will be installed\n",
      "package 'utf8' successfully unpacked and MD5 sums checked\n",
      "package 'bit' successfully unpacked and MD5 sums checked\n",
      "package 'prettyunits' successfully unpacked and MD5 sums checked\n",
      "package 'pkgconfig' successfully unpacked and MD5 sums checked\n",
      "package 'vctrs' successfully unpacked and MD5 sums checked\n",
      "package 'glue' successfully unpacked and MD5 sums checked\n",
      "package 'fansi' successfully unpacked and MD5 sums checked\n",
      "package 'magrittr' successfully unpacked and MD5 sums checked\n",
      "package 'bit64' successfully unpacked and MD5 sums checked\n",
      "package 'progress' successfully unpacked and MD5 sums checked\n",
      "package 'cli' successfully unpacked and MD5 sums checked\n",
      "package 'rlang' successfully unpacked and MD5 sums checked\n",
      "package 'tibble' successfully unpacked and MD5 sums checked\n",
      "package 'vroom' successfully unpacked and MD5 sums checked\n",
      "package 'tzdb' successfully unpacked and MD5 sums checked\n",
      "package 'readr' successfully unpacked and MD5 sums checked\n",
      "\n",
      "The downloaded binary packages are in\n",
      "\tC:\\Users\\Lenovo\\AppData\\Local\\Temp\\Rtmp0MEa9x\\downloaded_packages\n"
     ]
    },
    {
     "name": "stderr",
     "output_type": "stream",
     "text": [
      "installing the source packages 'pillar', 'tidyselect', 'withr', 'clipr', 'hms', 'lifecycle', 'R6', 'cpp11'\n",
      "\n",
      "Warning message in install.packages(\"readr\"):\n",
      "\"installation of package 'lifecycle' had non-zero exit status\"Warning message in install.packages(\"readr\"):\n",
      "\"installation of package 'pillar' had non-zero exit status\"Warning message in install.packages(\"readr\"):\n",
      "\"installation of package 'tidyselect' had non-zero exit status\"Warning message in install.packages(\"readr\"):\n",
      "\"installation of package 'hms' had non-zero exit status\"Warning message:\n",
      "\"package 'readr' was built under R version 3.6.3\""
     ]
    },
    {
     "ename": "ERROR",
     "evalue": "Error: package or namespace load failed for 'readr' in loadNamespace(j <- i[[1L]], c(lib.loc, .libPaths()), versionCheck = vI[[j]]):\n there is no package called 'hms'\n",
     "output_type": "error",
     "traceback": [
      "Error: package or namespace load failed for 'readr' in loadNamespace(j <- i[[1L]], c(lib.loc, .libPaths()), versionCheck = vI[[j]]):\n there is no package called 'hms'\nTraceback:\n",
      "1. library(readr)",
      "2. tryCatch({\n .     attr(package, \"LibPath\") <- which.lib.loc\n .     ns <- loadNamespace(package, lib.loc)\n .     env <- attachNamespace(ns, pos = pos, deps, exclude, include.only)\n . }, error = function(e) {\n .     P <- if (!is.null(cc <- conditionCall(e))) \n .         paste(\" in\", deparse(cc)[1L])\n .     else \"\"\n .     msg <- gettextf(\"package or namespace load failed for %s%s:\\n %s\", \n .         sQuote(package), P, conditionMessage(e))\n .     if (logical.return) \n .         message(paste(\"Error:\", msg), domain = NA)\n .     else stop(msg, call. = FALSE, domain = NA)\n . })",
      "3. tryCatchList(expr, classes, parentenv, handlers)",
      "4. tryCatchOne(expr, names, parentenv, handlers[[1L]])",
      "5. value[[3L]](cond)",
      "6. stop(msg, call. = FALSE, domain = NA)"
     ]
    }
   ],
   "source": [
    "install.packages('readr')\n",
    "library(readr)\n",
    "credit_data<- read_csv('credit.xlsx')\n"
   ]
  },
  {
   "cell_type": "code",
   "execution_count": null,
   "id": "3d088249",
   "metadata": {},
   "outputs": [],
   "source": []
  }
 ],
 "metadata": {
  "kernelspec": {
   "display_name": "R",
   "language": "R",
   "name": "ir"
  },
  "language_info": {
   "codemirror_mode": "r",
   "file_extension": ".r",
   "mimetype": "text/x-r-source",
   "name": "R",
   "pygments_lexer": "r",
   "version": "3.6.1"
  }
 },
 "nbformat": 4,
 "nbformat_minor": 5
}
